{
 "cells": [
  {
   "cell_type": "markdown",
   "id": "84ef881c",
   "metadata": {},
   "source": [
    "# Julia Language\n",
    "\n",
    "### The purpose of this notebook is to demonstrate the fundamental concepts in julia language"
   ]
  },
  {
   "cell_type": "markdown",
   "id": "cca726aa",
   "metadata": {},
   "source": [
    "## Julia Functions"
   ]
  },
  {
   "cell_type": "markdown",
   "id": "89cbef15",
   "metadata": {},
   "source": [
    "### Declaration syntax"
   ]
  },
  {
   "cell_type": "code",
   "execution_count": 18,
   "id": "83e20b24",
   "metadata": {},
   "outputs": [
    {
     "name": "stdout",
     "output_type": "stream",
     "text": [
      "the result is 13\n"
     ]
    }
   ],
   "source": [
    "# definition\n",
    "function func(x,y)\n",
    "    return x + y^2\n",
    "end\n",
    "\n",
    "println(\"the result is $(func(4,3))\")"
   ]
  },
  {
   "cell_type": "code",
   "execution_count": 19,
   "id": "d6f47cb8",
   "metadata": {},
   "outputs": [
    {
     "name": "stdout",
     "output_type": "stream",
     "text": [
      "the result is 7\n"
     ]
    }
   ],
   "source": [
    "# creating a one line function\n",
    "func_one_line_expression(x,y) = x + y\n",
    "\n",
    "println(\"the result is $(func_one_line_expression(4,3))\")"
   ]
  },
  {
   "cell_type": "markdown",
   "id": "618ee72b",
   "metadata": {},
   "source": [
    "### explore the return types in functions"
   ]
  },
  {
   "cell_type": "code",
   "execution_count": 49,
   "id": "26908c83",
   "metadata": {},
   "outputs": [
    {
     "name": "stdout",
     "output_type": "stream",
     "text": [
      "7\n",
      "the result is nothing\n"
     ]
    }
   ],
   "source": [
    "# define the function\n",
    "function addnum(p,q)\n",
    "     println(p + q)\n",
    "end\n",
    "\n",
    "# lets catch the result in a variable x and print it. \n",
    "x = addnum(3,4)\n",
    "println(\"the result is $x\")"
   ]
  },
  {
   "cell_type": "markdown",
   "id": "1d9d14c8",
   "metadata": {},
   "source": [
    "the result is nothing, because we did not define a return type for the function"
   ]
  },
  {
   "cell_type": "code",
   "execution_count": 50,
   "id": "88259a35",
   "metadata": {},
   "outputs": [
    {
     "name": "stdout",
     "output_type": "stream",
     "text": [
      "the result is 7\n",
      "the result is of Int64 type\n"
     ]
    }
   ],
   "source": [
    "# we can define the return type of the function by casting the return type in the declarations itslef\n",
    "# lets define a function that returns Int16 datatype \n",
    "addnum(p,q)::Int64 = (p + q)\n",
    "\n",
    "x = addnum(3,4)\n",
    "y = typeof(x)\n",
    "\n",
    "println(\"the result is $x\")\n",
    "println(\"the result is of $y type\")"
   ]
  },
  {
   "cell_type": "markdown",
   "id": "28fe5026",
   "metadata": {},
   "source": [
    "that is better. "
   ]
  },
  {
   "cell_type": "markdown",
   "id": "0d6393f3",
   "metadata": {},
   "source": [
    "### using functions as objects"
   ]
  },
  {
   "cell_type": "code",
   "execution_count": 64,
   "id": "d8daf208",
   "metadata": {},
   "outputs": [
    {
     "name": "stdout",
     "output_type": "stream",
     "text": [
      "the result is 6\n"
     ]
    }
   ],
   "source": [
    "# define a function\n",
    "mult(a,b) = a * b\n",
    "\n",
    "# use a pointer x to point to the function object\n",
    "x = mult\n",
    "\n",
    "# catch the output of the function using reference pointer x\n",
    "result = x(2,3)\n",
    "\n",
    "# print the result\n",
    "println(\"the result is $result\")"
   ]
  },
  {
   "cell_type": "markdown",
   "id": "114b6a11",
   "metadata": {},
   "source": [
    "here we were able to successfuly use the function as an object"
   ]
  },
  {
   "cell_type": "code",
   "execution_count": 67,
   "id": "387bf5d7",
   "metadata": {},
   "outputs": [
    {
     "name": "stdout",
     "output_type": "stream",
     "text": [
      "the result is 20\n"
     ]
    }
   ],
   "source": [
    "# lets define another function that takes 3 arguments\n",
    "\n",
    "function getnums(f, x, y)\n",
    "    return f(x, y)\n",
    "end\n",
    "\n",
    "# the first argument is actually a function object that we can pass\n",
    "result = getnums(mult,4,5)\n",
    "\n",
    "println(\"the result is $result\")"
   ]
  },
  {
   "cell_type": "markdown",
   "id": "859fa8ff",
   "metadata": {},
   "source": [
    "woah! we can extrapolate this cool idea further by constructing different functions and passing them through getnums()\n",
    "\n",
    "lets try division"
   ]
  },
  {
   "cell_type": "code",
   "execution_count": 85,
   "id": "dccf9a12",
   "metadata": {},
   "outputs": [
    {
     "name": "stdout",
     "output_type": "stream",
     "text": [
      "the result is 0.75\n"
     ]
    }
   ],
   "source": [
    "# define a function\n",
    "divider(a, b) = a / b\n",
    "\n",
    "# lets pass the new function through getnums\n",
    "result = getnums(divider,3,4)\n",
    "\n",
    "println(\"the result is $result\")"
   ]
  },
  {
   "cell_type": "markdown",
   "id": "93799a53",
   "metadata": {},
   "source": [
    "### anonymous functions"
   ]
  },
  {
   "cell_type": "code",
   "execution_count": 86,
   "id": "80df5fea",
   "metadata": {
    "scrolled": true
   },
   "outputs": [
    {
     "data": {
      "text/plain": [
       "#13 (generic function with 1 method)"
      ]
     },
     "execution_count": 86,
     "metadata": {},
     "output_type": "execute_result"
    }
   ],
   "source": [
    "anon_adder = (x, y) -> x + y"
   ]
  },
  {
   "cell_type": "code",
   "execution_count": 87,
   "id": "3b0caac9",
   "metadata": {},
   "outputs": [
    {
     "name": "stdout",
     "output_type": "stream",
     "text": [
      "the result is 9\n"
     ]
    }
   ],
   "source": [
    "result = getnums(anon_adder,3,4)\n",
    "\n",
    "println(\"the result is $result\")"
   ]
  },
  {
   "cell_type": "markdown",
   "id": "81cd9b45",
   "metadata": {},
   "source": [
    "#### or lets put the anonymous function directly as an argument"
   ]
  },
  {
   "cell_type": "code",
   "execution_count": 96,
   "id": "52bde93f",
   "metadata": {},
   "outputs": [
    {
     "name": "stdout",
     "output_type": "stream",
     "text": [
      "the result is 0.5\n"
     ]
    }
   ],
   "source": [
    "result = getnums(((x, y) -> x / y), 2, 4)\n",
    "\n",
    "println(\"the result is $result\")"
   ]
  },
  {
   "cell_type": "markdown",
   "id": "31844c9e",
   "metadata": {},
   "source": [
    "## tuples"
   ]
  },
  {
   "cell_type": "markdown",
   "id": "3b5779b8",
   "metadata": {},
   "source": [
    "### syntax"
   ]
  },
  {
   "cell_type": "code",
   "execution_count": 98,
   "id": "f7dfaed8",
   "metadata": {},
   "outputs": [
    {
     "data": {
      "text/plain": [
       "(2, 4, 5, 8)"
      ]
     },
     "execution_count": 98,
     "metadata": {},
     "output_type": "execute_result"
    }
   ],
   "source": [
    "# we define tuples by using ()\n",
    "t = (2,4,5,8)"
   ]
  },
  {
   "cell_type": "code",
   "execution_count": 103,
   "id": "0a15e3d4",
   "metadata": {},
   "outputs": [
    {
     "name": "stdout",
     "output_type": "stream",
     "text": [
      "2\n"
     ]
    }
   ],
   "source": [
    "# the first element starts with index 1. unlike other languages that use 0 as the first element\n",
    "println(t[1])"
   ]
  },
  {
   "cell_type": "markdown",
   "id": "8a89d87f",
   "metadata": {},
   "source": [
    "### named tuples"
   ]
  },
  {
   "cell_type": "code",
   "execution_count": 108,
   "id": "50d1bd94",
   "metadata": {},
   "outputs": [
    {
     "name": "stdout",
     "output_type": "stream",
     "text": [
      "1212\n"
     ]
    }
   ],
   "source": [
    "n_tup = (x = 12, y = 23, z = 34)\n",
    "\n",
    "print(n_tup.x)\n",
    "\n",
    "# or println(n_tup[1])"
   ]
  },
  {
   "cell_type": "markdown",
   "id": "2d259fae",
   "metadata": {},
   "source": [
    "#### we can next functions in a tuple and use it within a function."
   ]
  },
  {
   "cell_type": "code",
   "execution_count": 119,
   "id": "fefbd0ed",
   "metadata": {},
   "outputs": [
    {
     "name": "stdout",
     "output_type": "stream",
     "text": [
      "the added result is 7\n",
      "the subtracted result is 1\n"
     ]
    }
   ],
   "source": [
    "function add_und_sub(a, b)\n",
    "    (add = a + b, sub = a - b)\n",
    "end\n",
    "\n",
    "result = add_und_sub(4, 3)\n",
    "\n",
    "println(\"the added result is $(result.add)\")\n",
    "println(\"the subtracted result is $(result.sub)\")"
   ]
  },
  {
   "cell_type": "code",
   "execution_count": null,
   "id": "2366c720",
   "metadata": {},
   "outputs": [],
   "source": []
  }
 ],
 "metadata": {
  "kernelspec": {
   "display_name": "Julia 1.6.1",
   "language": "julia",
   "name": "julia-1.6"
  },
  "language_info": {
   "file_extension": ".jl",
   "mimetype": "application/julia",
   "name": "julia",
   "version": "1.6.1"
  }
 },
 "nbformat": 4,
 "nbformat_minor": 5
}
